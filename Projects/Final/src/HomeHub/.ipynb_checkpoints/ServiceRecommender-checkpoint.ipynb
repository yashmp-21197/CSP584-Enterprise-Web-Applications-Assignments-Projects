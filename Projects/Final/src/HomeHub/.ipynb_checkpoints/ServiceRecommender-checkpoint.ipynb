{
 "cells": [
  {
   "cell_type": "code",
   "execution_count": 1,
   "metadata": {},
   "outputs": [],
   "source": [
    "import os\n",
    "import csv\n",
    "from surprise import BaselineOnly\n",
    "from surprise import Dataset\n",
    "from surprise import Reader\n",
    "from surprise import SVD\n",
    "from surprise import accuracy\n",
    "from surprise.model_selection import cross_validate\n",
    "from surprise.model_selection import train_test_split\n",
    "from collections import defaultdict\n",
    "\n",
    "import contextlib\n",
    "import pymysql"
   ]
  },
  {
   "cell_type": "code",
   "execution_count": 2,
   "metadata": {},
   "outputs": [
    {
     "data": {
      "text/plain": [
       "0"
      ]
     },
     "execution_count": 2,
     "metadata": {},
     "output_type": "execute_result"
    }
   ],
   "source": [
    "pr_file_path=f'{os.getcwd()}'\n",
    "os.chdir('C:/Program Files/MongoDB/Server/3.2/bin')\n",
    "os.system(r'mongoexport --db HomeHubReviews --collection myReviews --type=csv --fields user_id,service_id,review_rating >'+pr_file_path+'\\mongodata_train.csv')"
   ]
  },
  {
   "cell_type": "code",
   "execution_count": 3,
   "metadata": {},
   "outputs": [],
   "source": [
    "with open(pr_file_path+\"/mongodata_train.csv\", \"r\") as f:\n",
    "    reader = csv.DictReader(f, delimiter=',')\n",
    "    with open(pr_file_path+\"/mongodata_test.csv\", \"w\",newline='') as f_out:\n",
    "        writer = csv.DictWriter(f_out, fieldnames=reader.fieldnames, delimiter=\",\")\n",
    "        for row in reader:\n",
    "            writer.writerow(row)"
   ]
  },
  {
   "cell_type": "code",
   "execution_count": 16,
   "metadata": {},
   "outputs": [
    {
     "name": "stdout",
     "output_type": "stream",
     "text": [
      "yash1 ['galaxy', 'tu8000', 'series_5']\n",
      "yash2 ['iphone_11_pro', 'home_mini', 'quest']\n",
      "yash3 ['tu8000', 'galaxy', 'echo_dot']\n",
      "yash4 ['tu8000', 'iphone_11_pro', 'home_max']\n",
      "yash5 ['quest', 'echo_dot', 'iphone_11_pro']\n",
      "yash6 ['tu8000', 'echo_dot', 'p30_pro']\n",
      "yash7 ['home_max', 'home_mini', 'iphone_11_pro']\n",
      "yash8 ['echo_dot', 'quest', 'galaxy']\n",
      "yash9 ['home_max', 'echo_dot', 'quest']\n",
      "yash10 ['galaxy', 'echo_dot', 'iphone_11_pro']\n",
      "yash11 ['galaxy', 'echo_dot', 'gen_5']\n",
      "yash12 ['iphone_11_pro', 'home_max', 'quest']\n",
      "yash13 ['tu8000', 'home_max', 'gen_5']\n",
      "yash14 ['quest', 'echo_dot', 'galaxy']\n",
      "yash15 ['tu8000', 'home_mini', 'iphone_11_pro']\n",
      "yash16 ['quest', 'echo_dot', 'iphone_11_pro']\n",
      "yash17 ['iphone_11_pro', 'galaxy', 'home_mini']\n",
      "yash18 ['echo_dot', 'home_mini', 'galaxy']\n",
      "yash19 ['home_mini', 'home_max', 'bar_5.1']\n",
      "yash20 ['echo_dot', 'iphone_11_pro', 'galaxy']\n",
      "yash23 ['iphone_11_pro', 'galaxy', 'echo_dot']\n"
     ]
    }
   ],
   "source": [
    "file_path = os.path.expanduser(pr_file_path+'/mongodata_test.csv')\n",
    "\n",
    "# As we're loading a custom dataset, we need to define a reader. In the\n",
    "# movielens-100k dataset, each line has the following format:\n",
    "# 'user item rating timestamp', separated by '\\t' characters.\n",
    "reader = Reader(line_format='user item rating', sep=',')\n",
    "\n",
    "#data = Dataset.load_from_file(file_path, reader=reader)\n",
    "\n",
    "def get_top_n(predictions, n=10):\n",
    "    '''Return the top-N recommendation for each user from a set of predictions.\n",
    "\n",
    "    Args:\n",
    "        predictions(list of Prediction objects): The list of predictions, as\n",
    "            returned by the test method of an algorithm.\n",
    "        n(int): The number of recommendation to output for each user. Default\n",
    "            is 10.\n",
    "\n",
    "    Returns:\n",
    "    A dict where keys are user (raw) ids and values are lists of tuples:\n",
    "        [(raw item id, rating estimation), ...] of size n.\n",
    "    '''\n",
    "\n",
    "    # First map the predictions to each user.\n",
    "    top_n = defaultdict(list)\n",
    "    for uid, iid, true_r, est, _ in predictions:\n",
    "        top_n[uid].append((iid, est))\n",
    "\n",
    "    # Then sort the predictions for each user and retrieve the k highest ones.\n",
    "    for uid, user_ratings in top_n.items():\n",
    "        user_ratings.sort(key=lambda x: x[1], reverse=True)\n",
    "        top_n[uid] = user_ratings[:n]\n",
    "\n",
    "    return top_n\n",
    "\n",
    "# First train an SVD algorithm on the movielens dataset.\n",
    "data = Dataset.load_from_file(file_path, reader=reader)\n",
    "trainset = data.build_full_trainset()\n",
    "algo = SVD()\n",
    "algo.fit(trainset)\n",
    "\n",
    "# Than predict ratings for all pairs (u, i) that are NOT in the training set.\n",
    "testset = trainset.build_anti_testset()\n",
    "predictions = algo.test(testset)\n",
    "\n",
    "top_n = get_top_n(predictions, n=3)\n",
    "\n",
    "# Print the recommended items for each user\n",
    "for uid, user_ratings in top_n.items():\n",
    "    print(uid, [iid for (iid, _) in user_ratings])\n",
    "    \n",
    "out = open(pr_file_path+'/matrixFactorizationBasedRecommendations.csv', 'w',newline='')\n",
    "output=csv.writer(out)\n",
    "\n",
    "for uid, user_ratings in top_n.items():\n",
    "    output.writerow([uid, [iid for (iid, _) in user_ratings]])\n",
    "    \n",
    "out.close()\n"
   ]
  },
  {
   "cell_type": "code",
   "execution_count": null,
   "metadata": {},
   "outputs": [],
   "source": []
  }
 ],
 "metadata": {
  "anaconda-cloud": {},
  "kernelspec": {
   "display_name": "Python 3",
   "language": "python",
   "name": "python3"
  },
  "language_info": {
   "codemirror_mode": {
    "name": "ipython",
    "version": 3
   },
   "file_extension": ".py",
   "mimetype": "text/x-python",
   "name": "python",
   "nbconvert_exporter": "python",
   "pygments_lexer": "ipython3",
   "version": "3.7.3"
  }
 },
 "nbformat": 4,
 "nbformat_minor": 1
}
